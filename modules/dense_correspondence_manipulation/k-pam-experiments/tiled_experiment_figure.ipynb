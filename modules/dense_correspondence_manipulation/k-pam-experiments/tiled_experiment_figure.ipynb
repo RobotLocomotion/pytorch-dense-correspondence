{
 "cells": [
  {
   "cell_type": "code",
   "execution_count": null,
   "metadata": {},
   "outputs": [],
   "source": [
    "%matplotlib inline\n",
    "\n",
    "import random\n",
    "import numpy as np\n",
    "import matplotlib.pyplot as plt\n",
    "import torch\n",
    "import os\n",
    "import dense_correspondence_manipulation.utils.utils as utils\n",
    "utils.add_dense_correspondence_to_python_path()"
   ]
  },
  {
   "cell_type": "code",
   "execution_count": null,
   "metadata": {},
   "outputs": [],
   "source": [
    "%%javascript\n",
    "IPython.OutputArea.auto_scroll_threshold = 9999;"
   ]
  },
  {
   "cell_type": "code",
   "execution_count": null,
   "metadata": {},
   "outputs": [],
   "source": [
    "# PATH TO EXPERIMENTS FOLDER\n",
    "\n",
    "print utils.getPdcPath()\n",
    "experiments_path = \"/home/peteflo/data/pdc/experiments\"\n",
    "\n",
    "shoes_path = os.path.join(experiments_path, \"shoes\")\n",
    "logs_with_eval = []\n",
    "for i in sorted(os.listdir(shoes_path)):\n",
    "    if os.path.exists(os.path.join(shoes_path, i, \"evaluation\", \"rgb.png\")):\n",
    "        logs_with_eval.append(i)\n",
    "        \n",
    "num_logs = len(logs_with_eval)\n",
    "print num_logs"
   ]
  },
  {
   "cell_type": "code",
   "execution_count": null,
   "metadata": {},
   "outputs": [],
   "source": [
    "import matplotlib.pyplot as plt\n",
    "from PIL import Image\n",
    "\n",
    "ncols = 10\n",
    "nrows = num_logs/ncols+1\n",
    "fig, axes = plt.subplots(nrows=nrows, ncols=ncols)\n",
    "plt.subplots_adjust(wspace=0, hspace=0)\n",
    "axes_flat = axes.flat[0:]\n",
    "fig.set_figheight(nrows*5*0.480)\n",
    "fig.set_figwidth(ncols*5*0.640)\n",
    "for ax in axes_flat:\n",
    "    ax.set_yticklabels([])\n",
    "    ax.set_xticklabels([])\n",
    "    ax.set_xticks([])\n",
    "    ax.set_yticks([])\n",
    "\n",
    "for i, log_dir in enumerate(logs_with_eval):\n",
    "    initial_rgb_filename = os.path.join(shoes_path, log_dir, \"0_image_annotations.png\")\n",
    "    image_pil = Image.open(initial_rgb_filename)\n",
    "    image_numpy = np.asarray(image_pil)\n",
    "    axes_flat[i].imshow(image_numpy)\n",
    "\n",
    "    \n",
    "plt.show()\n",
    "    "
   ]
  },
  {
   "cell_type": "code",
   "execution_count": null,
   "metadata": {},
   "outputs": [],
   "source": [
    "fig, axes = plt.subplots(nrows=nrows, ncols=ncols)\n",
    "plt.subplots_adjust(wspace=0, hspace=0)\n",
    "axes_flat = axes.flat[0:]\n",
    "\n",
    "# crop manually for better figure\n",
    "min_x = 50\n",
    "max_x = 480\n",
    "min_y = 60\n",
    "max_y = 380\n",
    "\n",
    "fig.set_figheight(nrows*5*0.001*(max_y-min_y))\n",
    "fig.set_figwidth(ncols*5*0.001*(max_x-min_x))\n",
    "\n",
    "\n",
    "for ax in axes_flat:\n",
    "    ax.set_yticklabels([])\n",
    "    ax.set_xticklabels([])\n",
    "    ax.set_xticks([])\n",
    "    ax.set_yticks([])\n",
    "\n",
    "for i, log_dir in enumerate(logs_with_eval):\n",
    "    final_rgb_filename = os.path.join(shoes_path, log_dir, \"evaluation\", \"rgb.png\")\n",
    "    image_pil = Image.open(final_rgb_filename)\n",
    "    image_numpy = np.asarray(image_pil)[min_y:max_y, min_x:max_x,:]\n",
    "    axes_flat[i].imshow(image_numpy)\n",
    "    \n",
    "plt.show()"
   ]
  },
  {
   "cell_type": "code",
   "execution_count": null,
   "metadata": {},
   "outputs": [],
   "source": [
    "mugs_path = os.path.join(experiments_path, \"mugs\")\n",
    "logs_with_eval = []\n",
    "for i in sorted(os.listdir(mugs_path)):\n",
    "    if os.path.exists(os.path.join(mugs_path, i, \"evaluation\", \"rgb.png\")):\n",
    "        logs_with_eval.append(i)\n",
    "        \n",
    "num_logs = len(logs_with_eval)\n",
    "print num_logs"
   ]
  },
  {
   "cell_type": "code",
   "execution_count": null,
   "metadata": {},
   "outputs": [],
   "source": [
    "ncols = 10\n",
    "nrows = num_logs/ncols+1\n",
    "fig, axes = plt.subplots(nrows=nrows, ncols=ncols)\n",
    "plt.subplots_adjust(wspace=0, hspace=0)\n",
    "axes_flat = axes.flat[0:]\n",
    "fig.set_figheight(nrows*5*0.480)\n",
    "fig.set_figwidth(ncols*5*0.640)\n",
    "for ax in axes_flat:\n",
    "    ax.set_yticklabels([])\n",
    "    ax.set_xticklabels([])\n",
    "    ax.set_xticks([])\n",
    "    ax.set_yticks([])\n",
    "\n",
    "for i, log_dir in enumerate(logs_with_eval):\n",
    "    initial_rgb_filename = os.path.join(mugs_path, log_dir, \"0_image_annotations.png\")\n",
    "    image_pil = Image.open(initial_rgb_filename)\n",
    "    image_numpy = np.asarray(image_pil)\n",
    "    axes_flat[i].imshow(image_numpy)\n",
    "    break\n",
    "    \n",
    "plt.show()"
   ]
  },
  {
   "cell_type": "code",
   "execution_count": null,
   "metadata": {},
   "outputs": [],
   "source": [
    "fig, axes = plt.subplots(nrows=nrows, ncols=ncols)\n",
    "plt.subplots_adjust(wspace=0, hspace=0)\n",
    "axes_flat = axes.flat[0:]\n",
    "\n",
    "# crop manually for better figure\n",
    "min_x = 160\n",
    "max_x = 440\n",
    "min_y = 20\n",
    "max_y = 300\n",
    "\n",
    "fig.set_figheight(nrows*5*0.001*(max_y-min_y))\n",
    "fig.set_figwidth(ncols*5*0.001*(max_x-min_x))\n",
    "for ax in axes_flat:\n",
    "    ax.set_yticklabels([])\n",
    "    ax.set_xticklabels([])\n",
    "    ax.set_xticks([])\n",
    "    ax.set_yticks([])\n",
    "\n",
    "for i, log_dir in enumerate(logs_with_eval):\n",
    "    final_rgb_filename = os.path.join(mugs_path, log_dir, \"evaluation\", \"rgb.png\")\n",
    "    image_pil = Image.open(final_rgb_filename)\n",
    "    image_numpy = np.asarray(image_pil)[min_y:max_y, min_x:max_x,:]\n",
    "    axes_flat[i].imshow(image_numpy)\n",
    "    \n",
    "plt.show()"
   ]
  },
  {
   "cell_type": "code",
   "execution_count": null,
   "metadata": {},
   "outputs": [],
   "source": []
  },
  {
   "cell_type": "code",
   "execution_count": null,
   "metadata": {},
   "outputs": [],
   "source": []
  }
 ],
 "metadata": {
  "kernelspec": {
   "display_name": "Python 2",
   "language": "python",
   "name": "python2"
  },
  "language_info": {
   "codemirror_mode": {
    "name": "ipython",
    "version": 2
   },
   "file_extension": ".py",
   "mimetype": "text/x-python",
   "name": "python",
   "nbconvert_exporter": "python",
   "pygments_lexer": "ipython2",
   "version": "2.7.12"
  }
 },
 "nbformat": 4,
 "nbformat_minor": 2
}
