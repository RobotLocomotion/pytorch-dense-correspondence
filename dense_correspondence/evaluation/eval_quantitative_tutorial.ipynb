{
 "cells": [
  {
   "cell_type": "markdown",
   "metadata": {},
   "source": [
    "# Caterpillar Networks\n",
    "\n",
    "Try different parameter settings on caterpillar networks"
   ]
  },
  {
   "cell_type": "code",
   "execution_count": null,
   "metadata": {},
   "outputs": [],
   "source": [
    "import numpy as np\n",
    "import os\n",
    "import fnmatch\n",
    "import pandas as pd\n",
    "import sklearn.metrics as sm\n",
    "import scipy.stats as ss\n",
    "import matplotlib.pyplot as plt\n",
    "\n",
    "import dense_correspondence_manipulation.utils.utils as utils\n",
    "utils.add_dense_correspondence_to_python_path()\n",
    "\n",
    "from dense_correspondence.evaluation.evaluation import DenseCorrespondenceEvaluationPlotter as DCEP"
   ]
  },
  {
   "cell_type": "code",
   "execution_count": null,
   "metadata": {},
   "outputs": [],
   "source": [
    "folder_name = \"tutorials\"\n",
    "path_to_nets = os.path.join(\"/home/manuelli/code/data_volume/pdc/trained_models\", folder_name)\n",
    "all_nets = sorted(os.listdir(path_to_nets))\n",
    "nets_to_plot = []\n",
    "\n",
    "nets_list = [\"caterpillar_3\"]\n",
    "for net in nets_list:\n",
    "    nets_to_plot.append(os.path.join(folder_name,net))"
   ]
  },
  {
   "cell_type": "markdown",
   "metadata": {},
   "source": [
    "# Training \n",
    "Evaluate the network on the training scenes. Correspondences are all within scene"
   ]
  },
  {
   "cell_type": "code",
   "execution_count": null,
   "metadata": {},
   "outputs": [],
   "source": [
    "p = DCEP()\n",
    "dc_source_dir = utils.getDenseCorrespondenceSourceDir()\n",
    "\n",
    "network_name = nets_to_plot[0]\n",
    "path_to_csv = os.path.join(dc_source_dir, \"data_volume\", \"pdc\", \"trained_models\", network_name, \"analysis/train/data.csv\")\n",
    "fig_axes = DCEP.run_on_single_dataframe(path_to_csv, label=network_name, save=False)\n",
    "\n",
    "for network_name in nets_to_plot[1:]:\n",
    "    path_to_csv = os.path.join(dc_source_dir, \"data_volume\", \"pdc\", \"trained_models\", network_name, \"analysis/train/data.csv\")\n",
    "    fig_axes = DCEP.run_on_single_dataframe(path_to_csv, label=network_name, previous_fig_axes=fig_axes, save=False)\n",
    "\n",
    "_, axes = fig_axes\n",
    "# axes[0].set_title(\"Training Set\")\n",
    "plt.show()"
   ]
  },
  {
   "cell_type": "markdown",
   "metadata": {},
   "source": [
    "# Test\n",
    "Evaluate the network on the test scenes. Correspondences are all within scene"
   ]
  },
  {
   "cell_type": "code",
   "execution_count": null,
   "metadata": {},
   "outputs": [],
   "source": [
    "p = DCEP()\n",
    "dc_source_dir = utils.getDenseCorrespondenceSourceDir()\n",
    "\n",
    "network_name = nets_to_plot[0]\n",
    "path_to_csv = os.path.join(dc_source_dir, \"data_volume\", \"pdc\", \"trained_models\", network_name, \"analysis/test/data.csv\")\n",
    "fig_axes = DCEP.run_on_single_dataframe(path_to_csv, label=network_name, save=False)\n",
    "\n",
    "for network_name in nets_to_plot[1:]:\n",
    "    path_to_csv = os.path.join(dc_source_dir, \"data_volume\", \"pdc\", \"trained_models\", network_name, \"analysis/test/data.csv\")\n",
    "    fig_axes = DCEP.run_on_single_dataframe(path_to_csv, label=network_name, previous_fig_axes=fig_axes, save=False)\n",
    "\n",
    "_, axes = fig_axes\n",
    "# axes[0].set_title(\"Test Set\")\n",
    "plt.show()"
   ]
  },
  {
   "cell_type": "markdown",
   "metadata": {},
   "source": [
    "## Cross Scene Single Object\n",
    "Evaluate the network on correspondences that come from different scenes. These correspondences were manually annotated only for evaluation purposes."
   ]
  },
  {
   "cell_type": "code",
   "execution_count": null,
   "metadata": {},
   "outputs": [],
   "source": [
    "p = DCEP()\n",
    "dc_source_dir = utils.getDenseCorrespondenceSourceDir()\n",
    "\n",
    "network_name = nets_to_plot[0]\n",
    "path_to_csv = os.path.join(dc_source_dir, \"data_volume\", \"pdc\", \"trained_models\", network_name, \"analysis/cross_scene/data.csv\")\n",
    "fig_axes = DCEP.run_on_single_dataframe(path_to_csv, label=network_name, save=False)\n",
    "\n",
    "for network_name in nets_to_plot[1:]:\n",
    "    path_to_csv = os.path.join(dc_source_dir, \"data_volume\", \"pdc\", \"trained_models\", network_name, \"analysis/cross_scene/data.csv\")\n",
    "    fig_axes = DCEP.run_on_single_dataframe(path_to_csv, label=network_name, previous_fig_axes=fig_axes, save=False)\n",
    "\n",
    "_, axes = fig_axes\n",
    "# axes[0].set_title(\"Cross Scene Set\")\n",
    "plt.show()"
   ]
  }
 ],
 "metadata": {
  "kernelspec": {
   "display_name": "Python 2",
   "language": "python",
   "name": "python2"
  },
  "language_info": {
   "codemirror_mode": {
    "name": "ipython",
    "version": 2
   },
   "file_extension": ".py",
   "mimetype": "text/x-python",
   "name": "python",
   "nbconvert_exporter": "python",
   "pygments_lexer": "ipython2",
   "version": "2.7.12"
  }
 },
 "nbformat": 4,
 "nbformat_minor": 2
}
