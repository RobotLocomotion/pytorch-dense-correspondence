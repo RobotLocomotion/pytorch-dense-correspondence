{
 "cells": [
  {
   "cell_type": "code",
   "execution_count": null,
   "metadata": {},
   "outputs": [],
   "source": [
    "%%javascript\n",
    "IPython.OutputArea.auto_scroll_threshold = 9999;"
   ]
  },
  {
   "cell_type": "code",
   "execution_count": null,
   "metadata": {},
   "outputs": [],
   "source": [
    "import dense_correspondence_manipulation.utils.utils as utils\n",
    "\n",
    "utils.add_dense_correspondence_to_python_path()\n",
    "from dense_correspondence.dataset.dynamic_spartan_dataset import DynamicSpartanDataset\n",
    "from dense_correspondence.dataset.spartan_dataset_masked import SpartanDataset\n",
    "import dense_correspondence.correspondence_tools.correspondence_finder as correspondence_finder\n",
    "import dense_correspondence.correspondence_tools.correspondence_plotter as correspondence_plotter\n",
    "from dense_correspondence.dataset.dense_correspondence_dataset_masked import ImageType\n",
    "\n",
    "import os\n",
    "import torch\n",
    "import numpy as np\n",
    "%matplotlib inline"
   ]
  },
  {
   "cell_type": "code",
   "execution_count": null,
   "metadata": {},
   "outputs": [],
   "source": [
    "from dense_correspondence.evaluation.evaluation import DenseCorrespondenceEvaluation\n",
    "\n",
    "logging_dir = \"/home/peteflo/data/pdc/trained_models/imitation\"\n",
    "name = \"sugar_contrastive_0710_3\"\n",
    "model_folder = os.path.join(logging_dir, name)\n",
    "model_folder = utils.convert_to_absolute_path(model_folder)\n",
    "print model_folder\n",
    "print os.listdir(model_folder)\n",
    "\n",
    "if False:\n",
    "    DCE = DenseCorrespondenceEvaluation\n",
    "    num_image_pairs = 100\n",
    "    DCE.run_detection_evaluation_on_network(model_folder, num_image_pairs=num_image_pairs)      "
   ]
  },
  {
   "cell_type": "code",
   "execution_count": null,
   "metadata": {},
   "outputs": [],
   "source": [
    "from dense_correspondence.evaluation.evaluation import DenseCorrespondenceEvaluationPlotter as DCEP\n",
    "import matplotlib.pyplot as plt\n",
    "\n",
    "path_to_df_csv = os.path.join(model_folder, \"analysis\", \"detection_train\", \"data.csv\")\n",
    "\n",
    "fig_axes = DCEP.run_on_single_detection_dataframe(path_to_df_csv, label=None, save=True, previous_fig_axes=None)\n",
    "\n",
    "# for network_name in nets_to_plot[1:]:\n",
    "#     path_to_csv = os.path.join(\"/home/peteflo/spartan/data_volume/pdc/trained_models\", network_name, \"analysis/train/data.csv\")\n",
    "#     fig_axes = DCEP.run_on_single_dataframe(path_to_csv, label=network_name, previous_fig_axes=fig_axes, save=False)\n",
    "\n",
    "_, axes = fig_axes\n",
    "# axes[0].set_title(\"Test Set\")\n",
    "plt.show()"
   ]
  },
  {
   "cell_type": "code",
   "execution_count": null,
   "metadata": {},
   "outputs": [],
   "source": [
    "import pandas as pd\n",
    "df = pd.read_csv(path_to_df_csv, index_col=0, parse_dates=True)\n",
    "\n",
    "print len(df), \"is total entries\"\n",
    "\n",
    "true_positives_only = df.loc[df['true_positive'] == True]\n",
    "true_negatives_only = df.loc[df['true_positive'] == False]\n",
    "\n",
    "print len(true_positives_only), \"is true positives\"\n",
    "print len(true_negatives_only), \"is true negatives\"\n",
    "\n",
    "print min(df[\"best_match_diff\"]), \"is min best_match_diff\"\n",
    "print max(df[\"best_match_diff\"]), \"is max best_match_diff\"\n",
    "\n",
    "#print true_positives_only.sort_values(by=['best_match_diff'])\n",
    "#print true_negatives_only.sort_values(by=['best_match_diff'])\n",
    "sorted_by_diff = df.sort_values(by=['best_match_diff'])\n",
    "\n",
    "for index, row in sorted_by_diff.iterrows():\n",
    "    print row['best_match_diff']\n",
    "    "
   ]
  },
  {
   "cell_type": "code",
   "execution_count": null,
   "metadata": {},
   "outputs": [],
   "source": [
    "print len(true_positives_only['true_positive'])"
   ]
  },
  {
   "cell_type": "code",
   "execution_count": null,
   "metadata": {},
   "outputs": [],
   "source": [
    "import seaborn as sns\n",
    "import matplotlib\n",
    "sns.set(style=\"whitegrid\")\n",
    "ax = sns.violinplot(x=df[\"true_positive\"], y=df[\"best_match_diff\"])\n",
    "fig = matplotlib.pyplot.gcf()\n",
    "fig.set_size_inches(10, 4)\n",
    "plt.show()"
   ]
  },
  {
   "cell_type": "code",
   "execution_count": null,
   "metadata": {},
   "outputs": [],
   "source": [
    "print (true_positives_only['best_match_diff'] < 3.0).sum()"
   ]
  },
  {
   "cell_type": "code",
   "execution_count": null,
   "metadata": {},
   "outputs": [],
   "source": [
    "def compute_precision_recall(true_positives_only, true_negatives_only, best_match_diff_threshold):\n",
    "    num_correct = (true_positives_only['best_match_diff'] < best_match_diff_threshold).sum()\n",
    "    num_not_correct = (true_negatives_only['best_match_diff'] < best_match_diff_threshold).sum()\n",
    "    precision = num_correct*1.0/(num_correct+num_not_correct)\n",
    "\n",
    "    recall = num_correct*1.0/(len(true_positives_only))\n",
    "    \n",
    "    return precision, recall\n",
    "\n",
    "ps = []\n",
    "rs = []\n",
    "\n",
    "import numpy as np\n",
    "diff_min = min(df[\"best_match_diff\"])\n",
    "diff_max = max(df[\"best_match_diff\"])\n",
    "thresholds = np.arange(diff_min, diff_max, (diff_max-diff_min)/1000.0)\n",
    "\n",
    "for threshold in thresholds:\n",
    "    p, r = compute_precision_recall(true_positives_only, true_negatives_only, threshold)\n",
    "    ps.append(p)\n",
    "    rs.append(r)\n",
    "    \n",
    "ps = np.asarray(ps)\n",
    "rs = np.asarray(rs)\n",
    "\n",
    "plt.plot(rs,ps)\n",
    "plt.ylim(0.0, 1.0)\n",
    "plt.xlabel(\"recall\")\n",
    "plt.ylabel(\"precision\")\n",
    "plt.show()\n",
    "\n",
    "\n"
   ]
  },
  {
   "cell_type": "code",
   "execution_count": null,
   "metadata": {},
   "outputs": [],
   "source": [
    "# from dense_correspondence.evaluation.evaluation import DenseCorrespondenceEvaluation\n",
    "\n",
    "# logging_dir = \"/home/peteflo/data/pdc/trained_models/imitation\"\n",
    "# name = \"sugar_contrastive_0710_3\"\n",
    "# model_folder = os.path.join(logging_dir, name)\n",
    "# model_folder = utils.convert_to_absolute_path(model_folder)\n",
    "# print model_folder\n",
    "# print os.listdir(model_folder)\n",
    "\n",
    "# if True:\n",
    "#     DCE = DenseCorrespondenceEvaluation\n",
    "#     num_image_pairs = 100\n",
    "#     DCE.run_evaluation_on_network(model_folder, num_image_pairs=num_image_pairs)      "
   ]
  },
  {
   "cell_type": "code",
   "execution_count": null,
   "metadata": {},
   "outputs": [],
   "source": []
  }
 ],
 "metadata": {
  "kernelspec": {
   "display_name": "Python 2",
   "language": "python",
   "name": "python2"
  },
  "language_info": {
   "codemirror_mode": {
    "name": "ipython",
    "version": 2
   },
   "file_extension": ".py",
   "mimetype": "text/x-python",
   "name": "python",
   "nbconvert_exporter": "python",
   "pygments_lexer": "ipython2",
   "version": "2.7.12"
  }
 },
 "nbformat": 4,
 "nbformat_minor": 2
}
