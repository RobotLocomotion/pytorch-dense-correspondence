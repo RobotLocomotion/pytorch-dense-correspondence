{
 "cells": [
  {
   "cell_type": "code",
   "execution_count": null,
   "metadata": {},
   "outputs": [],
   "source": [
    "%matplotlib inline"
   ]
  },
  {
   "cell_type": "code",
   "execution_count": null,
   "metadata": {},
   "outputs": [],
   "source": [
    "import os\n",
    "import numpy as np\n",
    "import matplotlib.pyplot as plt\n",
    "import time\n",
    "import cv2\n",
    "\n",
    "\n",
    "# torch\n",
    "import torch\n",
    "\n",
    "\n",
    "# pdc\n",
    "# from dense_correspondence.dataset.dynamic_drake_sim_dataset import DynamicDrakeSimDataset\n",
    "# from dense_correspondence.correspondence_tools.correspondence_finder import reproject_pixels\n",
    "# from dense_correspondence.correspondence_tools import correspondence_plotter\n",
    "# from dense_correspondence.correspondence_tools.correspondence_finder import compute_correspondence_data, pad_correspondence_data\n",
    "# from dense_correspondence_manipulation.utils.utils import getDenseCorrespondenceSourceDir\n",
    "import dense_correspondence.loss_functions.utils as loss_utils"
   ]
  },
  {
   "cell_type": "code",
   "execution_count": null,
   "metadata": {
    "scrolled": false
   },
   "outputs": [],
   "source": [
    "np.random.seed(0)\n",
    "torch.manual_seed(0)\n",
    "\n",
    "B = 1\n",
    "N = 1\n",
    "H = 480\n",
    "W = 640\n",
    "D = 3\n",
    "L = 5\n",
    "\n",
    "u = 400\n",
    "v = 200\n",
    "\n",
    "img = torch.zeros([B, H, W, D])\n",
    "sigma = 4\n",
    "des = torch.zeros([B, N, D])\n",
    "type = 'softmax'\n",
    "\n",
    "des_value = 10\n",
    "\n",
    "v_range = range(v-5, v+5)\n",
    "u_range = range(u-5, u+5)\n",
    "\n",
    "dp = 10\n",
    "\n",
    "des[0,0,:] = des_value\n",
    "img[0,(v-dp):(v+dp), (u-dp):(u+dp), :] = des_value - 0.1\n",
    "\n",
    "\n",
    "# [B, N, H, W]\n",
    "heatmap = loss_utils.compute_heatmap_from_descriptors(des,\n",
    "                                                      img,\n",
    "                                                      sigma,\n",
    "                                                      type)\n",
    "\n",
    "print(\"heatmap.shape\", heatmap.shape)\n",
    "\n",
    "h_img = heatmap[0,0,:,:].numpy()\n",
    "print(\"h_img.shape\", h_img.shape)\n",
    "print(\"h_img.dtype\", h_img.dtype)\n",
    "\n",
    "print(\"h_img.max\", np.max(h_img))\n",
    "print(\"h_img.min\", np.min(h_img))\n",
    "\n",
    "print(\"h_img[v,u]\", h_img[v, u])\n",
    "print(\"h_img[v+1, u]\", h_img[v+1, u])\n",
    "print(\"img[v+1, u]\", img[0, v+1, u, :])\n",
    "\n",
    "plt.imshow(h_img)\n",
    "plt.show()\n",
    "\n",
    "# h_255 = np.uint8(h_img*255)\n",
    "# plt.imshow(h_255)\n"
   ]
  },
  {
   "cell_type": "code",
   "execution_count": null,
   "metadata": {},
   "outputs": [],
   "source": []
  }
 ],
 "metadata": {
  "kernelspec": {
   "display_name": "Python 3",
   "language": "python",
   "name": "python3"
  },
  "language_info": {
   "codemirror_mode": {
    "name": "ipython",
    "version": 3
   },
   "file_extension": ".py",
   "mimetype": "text/x-python",
   "name": "python",
   "nbconvert_exporter": "python",
   "pygments_lexer": "ipython3",
   "version": "3.6.8"
  }
 },
 "nbformat": 4,
 "nbformat_minor": 2
}
