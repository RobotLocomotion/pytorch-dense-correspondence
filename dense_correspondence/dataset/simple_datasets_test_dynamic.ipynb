{
 "cells": [
  {
   "cell_type": "code",
   "execution_count": null,
   "metadata": {},
   "outputs": [],
   "source": [
    "%%javascript\n",
    "IPython.OutputArea.auto_scroll_threshold = 9999;"
   ]
  },
  {
   "cell_type": "code",
   "execution_count": null,
   "metadata": {},
   "outputs": [],
   "source": [
    "from dynamic_spartan_dataset import DynamicSpartanDataset\n",
    "from spartan_dataset_masked import SpartanDataset\n",
    "import dense_correspondence_manipulation.utils.utils as utils\n",
    "\n",
    "utils.add_dense_correspondence_to_python_path()\n",
    "import dense_correspondence.correspondence_tools.correspondence_finder as correspondence_finder\n",
    "import dense_correspondence.correspondence_tools.correspondence_plotter as correspondence_plotter\n",
    "from dense_correspondence.dataset.dense_correspondence_dataset_masked import ImageType\n",
    "\n",
    "import os\n",
    "import torch\n",
    "import numpy as np\n",
    "%matplotlib inline\n",
    "\n",
    "dataset_config_filename = os.path.join(utils.getDenseCorrespondenceSourceDir(), 'config', 'dense_correspondence',\n",
    "                                       'dataset', 'composite',\n",
    "                                       'dynamic_real.yaml')\n",
    "\n",
    "\n",
    "dataset_config = utils.getDictFromYamlFilename(dataset_config_filename)\n",
    "\n",
    "dataset = DynamicSpartanDataset(debug=True, config=dataset_config)"
   ]
  },
  {
   "cell_type": "code",
   "execution_count": null,
   "metadata": {},
   "outputs": [],
   "source": [
    "match_type, image_a_rgb, image_b_rgb, \\\n",
    "matches_a, matches_b, masked_non_matches_a, \\\n",
    "masked_non_matches_a, non_masked_non_matches_a, \\\n",
    "non_masked_non_matches_b, blind_non_matches_a, \\\n",
    "blind_non_matches_b, metadata = dataset.get_single_object_within_scene_data()\n",
    "\n",
    "for i in range(10):\n",
    "    dataset.get_single_object_within_scene_data()"
   ]
  },
  {
   "cell_type": "code",
   "execution_count": null,
   "metadata": {},
   "outputs": [],
   "source": []
  },
  {
   "cell_type": "code",
   "execution_count": null,
   "metadata": {},
   "outputs": [],
   "source": []
  }
 ],
 "metadata": {
  "kernelspec": {
   "display_name": "Python 2",
   "language": "python",
   "name": "python2"
  },
  "language_info": {
   "codemirror_mode": {
    "name": "ipython",
    "version": 2
   },
   "file_extension": ".py",
   "mimetype": "text/x-python",
   "name": "python",
   "nbconvert_exporter": "python",
   "pygments_lexer": "ipython2",
   "version": "2.7.12"
  }
 },
 "nbformat": 4,
 "nbformat_minor": 2
}
