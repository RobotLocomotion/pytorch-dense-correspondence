{
 "cells": [
  {
   "cell_type": "code",
   "execution_count": 1,
   "metadata": {},
   "outputs": [],
   "source": [
    "import torch"
   ]
  },
  {
   "cell_type": "code",
   "execution_count": 2,
   "metadata": {},
   "outputs": [
    {
     "name": "stdout",
     "output_type": "stream",
     "text": [
      "2.304\n",
      "9.437184\n"
     ]
    }
   ],
   "source": [
    "W = 80\n",
    "H = 60\n",
    "D = 3\n",
    "\n",
    "fullW = 640\n",
    "fullH = 480\n",
    "fullD = 3\n",
    "\n",
    "print (W*H)**2 / 1e7\n",
    "print (fullW*fullH)**2 / 1e10"
   ]
  },
  {
   "cell_type": "code",
   "execution_count": 3,
   "metadata": {},
   "outputs": [
    {
     "name": "stdout",
     "output_type": "stream",
     "text": [
      "1.2626330192005094e-06\n",
      "done\n"
     ]
    }
   ],
   "source": [
    "from scipy.stats import multivariate_normal\n",
    "import numpy as np\n",
    "var = multivariate_normal(mean=[0,0], cov=[[1,0],[0,1]])\n",
    "var.pdf([1,0])\n",
    "\n",
    "class PixelDistributionLoss():\n",
    "    def __init__(self):\n",
    "        self.N = 1000\n",
    "        self.setup_pixel_distribution()\n",
    "\n",
    "    def setup_pixel_distribution(self):\n",
    "        self.mog = []\n",
    "        for i in range(self.N):\n",
    "            g = multivariate_normal(mean=torch.rand(4).numpy(),cov=np.eye(4))\n",
    "            self.mog.append(g)\n",
    "\n",
    "    def sample_pixel_ground_truth_distribution(self,x_a,y_a,x_b,y_b):\n",
    "        mog_sum = 0\n",
    "        for g in self.mog:\n",
    "            mog_sum += g.pdf([x_a,y_a,x_b,y_b])\n",
    "        return mog_sum / self.N\n",
    "        \n",
    "pd = PixelDistributionLoss()\n",
    "print pd.sample_pixel_ground_truth_distribution(1,2,3,4)\n",
    "for i in range(1000):\n",
    "    pd.sample_pixel_ground_truth_distribution(1,2,3,4)\n",
    "print \"done\""
   ]
  },
  {
   "cell_type": "code",
   "execution_count": 4,
   "metadata": {},
   "outputs": [
    {
     "data": {
      "text/plain": [
       "array([[1., 0., 0., 0.],\n",
       "       [0., 1., 0., 0.],\n",
       "       [0., 0., 1., 0.],\n",
       "       [0., 0., 0., 1.]])"
      ]
     },
     "execution_count": 4,
     "metadata": {},
     "output_type": "execute_result"
    }
   ],
   "source": [
    "import numpy as np\n",
    "np.eye(4)"
   ]
  },
  {
   "cell_type": "code",
   "execution_count": 5,
   "metadata": {},
   "outputs": [
    {
     "name": "stdout",
     "output_type": "stream",
     "text": [
      "torch.Size([1, 23040000])\n",
      "3.00773310661\n"
     ]
    }
   ],
   "source": [
    "import torch\n",
    "import time\n",
    "W=80\n",
    "H=60\n",
    "start = time.time()\n",
    "neg_squared_norm_diffs_flat = torch.rand(1,W*H*W*H).cuda() # N, nm, H*W\n",
    "softmax = torch.nn.Softmax(dim=1)\n",
    "softmax_activations = softmax(neg_squared_norm_diffs_flat)\n",
    "print softmax_activations.shape\n",
    "print time.time() - start"
   ]
  },
  {
   "cell_type": "code",
   "execution_count": 9,
   "metadata": {},
   "outputs": [
    {
     "name": "stdout",
     "output_type": "stream",
     "text": [
      "torch.Size([1, 23040000])\n",
      "0.243467092514\n"
     ]
    }
   ],
   "source": [
    "import torch\n",
    "import time\n",
    "W=80\n",
    "H=60\n",
    "L=100\n",
    "start = time.time()\n",
    "neg_squared_norm_diffs_flat = torch.rand(1,(W*H)*(W*H)).cuda() # N, nm, H*W\n",
    "softmax = torch.nn.Softmax(dim=1)\n",
    "softmax_activations = softmax(neg_squared_norm_diffs_flat)\n",
    "print softmax_activations.shape\n",
    "print time.time() - start"
   ]
  },
  {
   "cell_type": "code",
   "execution_count": null,
   "metadata": {},
   "outputs": [],
   "source": []
  },
  {
   "cell_type": "code",
   "execution_count": null,
   "metadata": {},
   "outputs": [],
   "source": []
  }
 ],
 "metadata": {
  "kernelspec": {
   "display_name": "Python 2",
   "language": "python",
   "name": "python2"
  },
  "language_info": {
   "codemirror_mode": {
    "name": "ipython",
    "version": 2
   },
   "file_extension": ".py",
   "mimetype": "text/x-python",
   "name": "python",
   "nbconvert_exporter": "python",
   "pygments_lexer": "ipython2",
   "version": "2.7.12"
  }
 },
 "nbformat": 4,
 "nbformat_minor": 2
}
