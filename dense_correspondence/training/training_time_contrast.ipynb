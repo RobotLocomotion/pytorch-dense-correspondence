{
 "cells": [
  {
   "cell_type": "code",
   "execution_count": null,
   "metadata": {},
   "outputs": [],
   "source": [
    "%matplotlib inline\n",
    "\n",
    "import random\n",
    "import numpy as np\n",
    "import matplotlib.pyplot as plt\n",
    "import os\n",
    "import cv2\n",
    "import torch\n",
    "import dense_correspondence_manipulation.utils.utils as utils\n",
    "utils.add_dense_correspondence_to_python_path()\n",
    "\n",
    "import dense_correspondence\n",
    "from dense_correspondence.evaluation.evaluation import *\n",
    "import dense_correspondence.correspondence_tools.correspondence_plotter as correspondence_plotter\n",
    "from dense_correspondence.dataset.dense_correspondence_dataset_masked import ImageType\n",
    "from dense_correspondence.dataset.dynamic_time_contrast_dataset import DynamicTimeContrastDataset"
   ]
  },
  {
   "cell_type": "markdown",
   "metadata": {},
   "source": [
    "## Load the configuration for training"
   ]
  },
  {
   "cell_type": "code",
   "execution_count": null,
   "metadata": {},
   "outputs": [],
   "source": [
    "# LOAD DATASET\n",
    "dataset_config_filename = os.path.join(utils.getDenseCorrespondenceSourceDir(), 'config', 'dense_correspondence',\n",
    "                                       'dataset', 'composite',\n",
    "                                       'dynamic.yaml')\n",
    "dataset_config = utils.getDictFromYamlFilename(dataset_config_filename)\n",
    "dataset = DynamicTimeContrastDataset(config=dataset_config)\n",
    "\n",
    "# LOAD DESCRIPTOR NETWORK\n",
    "eval_config_filename = os.path.join(utils.getDenseCorrespondenceSourceDir(), 'config', \n",
    "                               'dense_correspondence', 'evaluation', 'evaluation.yaml')\n",
    "eval_config = utils.getDictFromYamlFilename(eval_config_filename)\n",
    "\n",
    "utils.set_cuda_visible_devices([0])\n",
    "dce = DenseCorrespondenceEvaluation(eval_config)\n",
    "network_name = \"sugar_closer_3\"\n",
    "dcn = dce.load_network_from_config(network_name)\n",
    "dcn.cuda().eval()\n",
    "print \"loaded\""
   ]
  },
  {
   "cell_type": "code",
   "execution_count": null,
   "metadata": {},
   "outputs": [],
   "source": [
    "# # Test that I can put an image through DCN from TCN dataloader\n",
    "# metadata, images = dataset[0]\n",
    "# img_anchor = images[0]\n",
    "# res_a = dcn.forward_single_image_tensor(img_anchor).data.cpu().numpy()\n",
    "# from dense_correspondence.evaluation.plotting import normalize_descriptor\n",
    "# res_a = normalize_descriptor(res_a, dcn.descriptor_image_stats[\"mask_image\"])\n",
    "# import matplotlib.pyplot as plt\n",
    "# plt.imshow(res_a)\n",
    "# plt.show()"
   ]
  },
  {
   "cell_type": "code",
   "execution_count": null,
   "metadata": {},
   "outputs": [],
   "source": [
    "# stacked_images = torch.cat([x.unsqueeze(0) for x in images]).cuda() #N, C, H, W\n",
    "# stacked_descriptor_images = dcn.forward(stacked_images).detach() #N, D, H, W\n",
    "# #plt.imshow(stacked_descriptor_images[0].data.permute(1,2,0).cpu().numpy())\n",
    "\n",
    "# # Format the input\n",
    "# print stacked_images.shape\n",
    "# print stacked_descriptor_images.shape\n",
    "\n",
    "# # Stack carefully\n",
    "# rgb_and_descriptor_images = []\n",
    "# for i in range(stacked_images.shape[0]):\n",
    "#     rgb_and_descriptor_images.append(torch.cat([stacked_images[i], stacked_descriptor_images[i]]).unsqueeze(0))\n",
    "\n",
    "# stacked_all_images = torch.cat(rgb_and_descriptor_images) # N, C+D, H, W\n",
    "# print stacked_all_images.shape\n",
    "# print stacked_all_images.requires_grad\n",
    "# print stacked_images.requires_grad"
   ]
  },
  {
   "cell_type": "markdown",
   "metadata": {},
   "source": [
    "## Train the time contrast network"
   ]
  },
  {
   "cell_type": "code",
   "execution_count": null,
   "metadata": {},
   "outputs": [],
   "source": [
    "import torch.nn as nn\n",
    "import torch.nn.functional as F\n",
    "\n",
    "\n",
    "\n",
    "class TimeEmbeddingNetwork(nn.Module):\n",
    "    def __init__(self, D):\n",
    "        super(TimeEmbeddingNetwork, self).__init__()\n",
    "        self.conv1 = nn.Conv2d(6, 6, 5)\n",
    "        self.pool = nn.MaxPool2d(2, 2)\n",
    "        self.conv2 = nn.Conv2d(6, 16, 5)\n",
    "        self.conv3 = nn.Conv2d(16, 3, 5)\n",
    "        self.fc1 = nn.Linear(12768, 12768)\n",
    "        self.fc2 = nn.Linear(12768, 12768)\n",
    "        self.fc3 = nn.Linear(12768, D)\n",
    "        \n",
    "    def forward(self, x):\n",
    "        x = self.pool(F.relu(self.conv1(x)))\n",
    "        x = self.pool(F.relu(self.conv2(x)))\n",
    "        x = self.pool(F.relu(self.conv3(x)))\n",
    "        x = x.view(-1,12768)\n",
    "        drop = nn.Dropout(0.1)\n",
    "        x = F.relu(drop(self.fc1(x)))\n",
    "        x = F.relu(drop(self.fc2(x)))\n",
    "        x = self.fc3(x)\n",
    "        return x\n",
    "    \n",
    "net = TimeEmbeddingNetwork(D=32).cuda()\n",
    "# out = net(stacked_all_images)\n",
    "# print out.shape"
   ]
  },
  {
   "cell_type": "code",
   "execution_count": null,
   "metadata": {},
   "outputs": [],
   "source": [
    "def triplet_time_contrastive_loss(three_embeddings):\n",
    "    if True: # normalize\n",
    "        three_embeddings = [x/torch.norm(x) for x in three_embeddings]\n",
    "    positive = (three_embeddings[0] - three_embeddings[1]).pow(2).sum()\n",
    "    negative = (three_embeddings[0] - three_embeddings[2]).pow(2).sum()\n",
    "    alpha = 0.2\n",
    "    margin = negative - positive + alpha\n",
    "    return torch.clamp(margin, min=0)\n",
    "    \n",
    "# triplet_time_contrastive_loss(out)"
   ]
  },
  {
   "cell_type": "code",
   "execution_count": null,
   "metadata": {},
   "outputs": [],
   "source": [
    "import tensorboard_logger\n",
    "\n",
    "def setup_tensorboard():\n",
    "    tensorboard_log_dir = \"./tensorboard_log_dir/\"+utils.get_current_YYYY_MM_DD_hh_mm_ss()\n",
    "    logging.info(\"setting up tensorboard_logger\")\n",
    "    cmd = \"tensorboard --logdir=%s\" %(tensorboard_log_dir)\n",
    "    tb_logger = tensorboard_logger.Logger(tensorboard_log_dir)\n",
    "    logging.info(\"tensorboard logger started\")\n",
    "    return tb_logger\n",
    "    \n",
    "tb_logger = setup_tensorboard()"
   ]
  },
  {
   "cell_type": "code",
   "execution_count": null,
   "metadata": {},
   "outputs": [],
   "source": [
    "batch_size = 1\n",
    "trainloader = torch.utils.data.DataLoader(dataset, batch_size=batch_size, shuffle=True, num_workers=6)\n",
    "\n",
    "import torch.optim as optim\n",
    "\n",
    "criterion = triplet_time_contrastive_loss\n",
    "optimizer = optim.SGD(net.parameters(), lr=0.0001, momentum=0.9)\n",
    "\n",
    "print(\"Starting training...\")\n",
    "import time\n",
    "start = time.time()\n",
    "overall_iter = 0\n",
    "for epoch in range(10):  # loop over the dataset multiple times\n",
    "\n",
    "    running_loss = 0.0\n",
    "    for i, data in enumerate(trainloader, 0):\n",
    "        overall_iter += 1\n",
    "        # get the inputs\n",
    "        metadata, images = data\n",
    "\n",
    "        stacked_images = torch.cat([x for x in images]).cuda() #N, C, H, W\n",
    "        stacked_descriptor_images = dcn.forward(stacked_images).detach() #N, D, H, W\n",
    "        rgb_and_descriptor_images = []\n",
    "        for i in range(stacked_images.shape[0]):\n",
    "            rgb_and_descriptor_images.append(torch.cat([stacked_images[i], stacked_descriptor_images[i]]).unsqueeze(0))\n",
    "\n",
    "        stacked_all_images = torch.cat(rgb_and_descriptor_images) # N, C+D, H, W\n",
    "        \n",
    "        # zero the parameter gradients\n",
    "        optimizer.zero_grad()\n",
    "\n",
    "        # forward + backward + optimize\n",
    "        out = net(stacked_all_images)\n",
    "        loss = criterion(out)\n",
    "        loss.backward()\n",
    "        optimizer.step()\n",
    "        \n",
    "        tb_logger.log_value(\"loss\", loss.item(), overall_iter)\n",
    "\n",
    "        # print statistics\n",
    "        running_loss += loss.item()\n",
    "        if False:    # print every 1000 mini-batches\n",
    "            print('[%d, %5d] loss: %.8f' %\n",
    "                  (epoch + 1, i + 1, running_loss / 10))\n",
    "            running_loss = 0.0\n",
    "\n",
    "print('Finished Training with', str(epoch*i), 'steps')\n",
    "print(\"In time\", str(time.time() - start))\n",
    "torch.save(net.state_dict(), \"./new_net.pth\")"
   ]
  },
  {
   "cell_type": "code",
   "execution_count": null,
   "metadata": {},
   "outputs": [],
   "source": []
  },
  {
   "cell_type": "code",
   "execution_count": null,
   "metadata": {},
   "outputs": [],
   "source": []
  },
  {
   "cell_type": "code",
   "execution_count": null,
   "metadata": {},
   "outputs": [],
   "source": []
  }
 ],
 "metadata": {
  "kernelspec": {
   "display_name": "Python 2",
   "language": "python",
   "name": "python2"
  },
  "language_info": {
   "codemirror_mode": {
    "name": "ipython",
    "version": 2
   },
   "file_extension": ".py",
   "mimetype": "text/x-python",
   "name": "python",
   "nbconvert_exporter": "python",
   "pygments_lexer": "ipython2",
   "version": "2.7.12"
  }
 },
 "nbformat": 4,
 "nbformat_minor": 2
}
