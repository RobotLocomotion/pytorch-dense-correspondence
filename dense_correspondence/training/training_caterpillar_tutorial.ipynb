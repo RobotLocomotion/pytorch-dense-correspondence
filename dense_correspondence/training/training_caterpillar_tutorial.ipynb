{
 "cells": [
  {
   "cell_type": "code",
   "execution_count": null,
   "metadata": {},
   "outputs": [],
   "source": [
    "import dense_correspondence_manipulation.utils.utils as utils\n",
    "utils.add_dense_correspondence_to_python_path()\n",
    "from dense_correspondence.training.training import *\n",
    "import sys\n",
    "import logging\n",
    "\n",
    "# utils.set_default_cuda_visible_devices()\n",
    "# utils.set_cuda_visible_devices([0]) # use this to manually set CUDA_VISIBLE_DEVICES\n",
    "\n",
    "from dense_correspondence.training.training import DenseCorrespondenceTraining\n",
    "from dense_correspondence.dataset.spartan_dataset_masked import SpartanDataset\n",
    "logging.basicConfig(level=logging.INFO)\n"
   ]
  },
  {
   "cell_type": "markdown",
   "metadata": {},
   "source": [
    "## Load the config files"
   ]
  },
  {
   "cell_type": "code",
   "execution_count": null,
   "metadata": {},
   "outputs": [],
   "source": [
    "config_filename = os.path.join(utils.getDenseCorrespondenceSourceDir(), 'config', 'dense_correspondence', \n",
    "                               'dataset', 'composite', 'caterpillar_only.yaml')\n",
    "config = utils.getDictFromYamlFilename(config_filename)\n",
    "\n",
    "train_config_file = os.path.join(utils.getDenseCorrespondenceSourceDir(), 'config', 'dense_correspondence', \n",
    "                               'training', 'training.yaml')\n",
    "\n",
    "train_config = utils.getDictFromYamlFilename(train_config_file)\n",
    "\n",
    "dataset = SpartanDataset(config=config)\n",
    "logging_dir_name = \"caterpillar\"\n",
    "num_iterations = 3500\n",
    "num_image_pairs = 100\n",
    "descriptor_dim = 3 # the descriptor dimension\n",
    "\n",
    "TRAIN = True\n",
    "EVALUATE = True"
   ]
  },
  {
   "cell_type": "markdown",
   "metadata": {},
   "source": [
    "## Train the network"
   ]
  },
  {
   "cell_type": "code",
   "execution_count": null,
   "metadata": {},
   "outputs": [],
   "source": [
    "print \"training descriptor of dimension %d\" %(d)\n",
    "train = DenseCorrespondenceTraining(dataset=dataset, config=train_config)\n",
    "train_config = utils.getDictFromYamlFilename(train_config_file)\n",
    "name = \"caterpillar_M_background_%s\" %(d)\n",
    "\n",
    "train._config[\"training\"][\"logging_dir\"] = logging_dir\n",
    "train._config[\"training\"][\"logging_dir_name\"] = name\n",
    "train._config[\"dense_correspondence_network\"][\"descriptor_dimension\"] = d\n",
    "\n",
    "if TRAIN:\n",
    "    train.run()\n",
    "print \"finished training descriptor of dimension %d\" %(d)\n",
    "\n",
    "\n",
    "model_folder = os.path.join(logging_dir, name)\n",
    "model_folder = utils.convert_to_absolute_path(model_folder)\n",
    "\n",
    "if EVALUATE:\n",
    "    DCE = DenseCorrespondenceEvaluation\n",
    "    DCE.run_evaluation_on_network(model_folder, num_image_pairs=num_image_pairs)      \n"
   ]
  }
 ],
 "metadata": {
  "kernelspec": {
   "display_name": "Python 2",
   "language": "python",
   "name": "python2"
  },
  "language_info": {
   "codemirror_mode": {
    "name": "ipython",
    "version": 2
   },
   "file_extension": ".py",
   "mimetype": "text/x-python",
   "name": "python",
   "nbconvert_exporter": "python",
   "pygments_lexer": "ipython2",
   "version": "2.7.12"
  }
 },
 "nbformat": 4,
 "nbformat_minor": 2
}
